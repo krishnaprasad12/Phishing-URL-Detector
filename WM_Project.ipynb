{
  "nbformat": 4,
  "nbformat_minor": 0,
  "metadata": {
    "colab": {
      "provenance": [],
      "authorship_tag": "ABX9TyPE8zDS0nr1lO2IOpg2NjQD",
      "include_colab_link": true
    },
    "kernelspec": {
      "name": "python3",
      "display_name": "Python 3"
    },
    "language_info": {
      "name": "python"
    }
  },
  "cells": [
    {
      "cell_type": "markdown",
      "metadata": {
        "id": "view-in-github",
        "colab_type": "text"
      },
      "source": [
        "<a href=\"https://colab.research.google.com/github/krishnaprasad12/Web-Mining-DA/blob/main/WM_Project.ipynb\" target=\"_parent\"><img src=\"https://colab.research.google.com/assets/colab-badge.svg\" alt=\"Open In Colab\"/></a>"
      ]
    },
    {
      "cell_type": "markdown",
      "source": [
        "#Libraries "
      ],
      "metadata": {
        "id": "q6ue7jnyRD3c"
      }
    },
    {
      "cell_type": "code",
      "source": [
        "import requests\n",
        "from bs4 import BeautifulSoup\n",
        "import re"
      ],
      "metadata": {
        "id": "K16RZpEaRHPM"
      },
      "execution_count": null,
      "outputs": []
    },
    {
      "cell_type": "markdown",
      "source": [
        "#Web Crawling"
      ],
      "metadata": {
        "id": "eoTPb3oiPDW1"
      }
    },
    {
      "cell_type": "code",
      "execution_count": null,
      "metadata": {
        "id": "IZN9ou7qMKKa"
      },
      "outputs": [],
      "source": [
        "# Parse the HTML content using Beautiful Soup\n",
        "def parse_html(html_content):\n",
        "    soup = BeautifulSoup(html_content, 'html.parser')\n",
        "    return soup\n",
        "\n",
        "# Extract data from the parsed HTML\n",
        "def extract_data(soup):\n",
        "    # Example: extract all the links from the HTML\n",
        "    links = []\n",
        "    for link in soup.find_all('a'):\n",
        "        href = link.get('href')\n",
        "        links.append(href)\n",
        "    return links"
      ]
    },
    {
      "cell_type": "markdown",
      "source": [
        "#Web Scrapping"
      ],
      "metadata": {
        "id": "x49cqHIOR7dW"
      }
    },
    {
      "cell_type": "code",
      "source": [
        "# Retrieve the HTML content of a webpage\n",
        "def get_html(url):\n",
        "    response = requests.get(url)\n",
        "    html_content = response.text\n",
        "    return html_content"
      ],
      "metadata": {
        "id": "iINVRQBcSDtO"
      },
      "execution_count": null,
      "outputs": []
    },
    {
      "cell_type": "markdown",
      "source": [
        "#Execution "
      ],
      "metadata": {
        "id": "RTCEXSQbRhJc"
      }
    },
    {
      "cell_type": "code",
      "source": [
        "# url = input(\"Enter the URL of the website you want to crawl: \")\n",
        "url = \"https://www.octoparse.com/#\"\n",
        "\n",
        "html_content = get_html(url)\n",
        "soup = parse_html(html_content)\n",
        "links = extract_data(soup)\n",
        "\n",
        "print(\"Links in the Website: \")\n",
        "print(links)\n"
      ],
      "metadata": {
        "colab": {
          "base_uri": "https://localhost:8080/"
        },
        "id": "WDV3FvuTRgYF",
        "outputId": "84d77e7a-0cf1-4a08-b0bf-f809c5305dc7"
      },
      "execution_count": null,
      "outputs": [
        {
          "output_type": "stream",
          "name": "stdout",
          "text": [
            "Links in the Website: \n",
            "['/', '/Product', '#', 'https://service.octoparse.com/socialmedia', 'https://service.octoparse.com/data-service', 'https://service.octoparse.com/ecommercedata', 'https://service.octoparse.com/enterprise', 'https://service.octoparse.com/contentaggregation', 'https://service.octoparse.com/webscrapingtemplates', 'https://service.octoparse.com/higher-education', None, 'https://service.octoparse.com/lead_generation', None, 'https://service.octoparse.com/automobile', '/Pricing', '/help', 'https://helpcenter.octoparse.com/en/', 'https://dataservice.octoparse.com/octoparse-hello-world', 'javascript:void(0)', 'https://service.octoparse.com/ebook', '/Download', '#', '/Blog', '/CustomerStories', 'https://dataservice.octoparse.com/webinars', 'https://service.octoparse.com/whitepapers', 'https://www.octoparse.jp/', 'https://www.octoparse.es/', 'https://www.octoparse.fr/', 'https://www.octoparse.de/', '/Login?returnUrl=/profile', '/SignUp', '/login', '/signup', '/WebScraping', '/subscribe/trial?plan=std&ref=homepage', '/subscribe/trial?plan=std&ref=homepage', '/DataExtraction', '/DataExtraction', '/DataCrawler', '/DataCrawler', '/DataCrawler', '/DataCrawler', '/signup', '/signup', '/pricing', '/pricing', 'https://service.octoparse.com/data-service', 'https://service.octoparse.com/data-service', '/about', '/terms-and-conditions', 'https://service.octoparse.com/data-service', '/JoinAffiliateProgram', 'http://agent.octoparse.com/login', 'https://octoparse.jp', 'https://www.octoparse.es/', '/product', '/pricing', '/product/FeaturesComparison', '/download', '/blog', '/blog/what-is-web-scraping-basics-and-use-cases', 'https://helpcenter.octoparse.com', 'https://helpcenter.octoparse.com/en/collections/3590192', 'https://dataservice.octoparse.com/octoparse-hello-world', 'https://openapi.octoparse.com/', None, '/signup', '/login', 'https://service.octoparse.com/data-service', 'javascript:;', 'https://www.facebook.com/Octoparse/', 'https://twitter.com/Octoparse', 'https://www.linkedin.com/company/octopus-data-inc./', 'https://www.youtube.com/channel/UCweDWm1QY2G67SDAKX7nreg', 'https://www.octoparse.com/privacy-policy', 'https://www.octoparse.com/terms-and-conditions', '#', '#', 'https://www.octoparse.com/privacy-policy', '#', '#']\n"
          ]
        }
      ]
    },
    {
      "cell_type": "code",
      "source": [],
      "metadata": {
        "id": "QwZ5kUQWSNpt"
      },
      "execution_count": null,
      "outputs": []
    }
  ]
}